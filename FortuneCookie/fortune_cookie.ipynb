{
  "nbformat": 4,
  "nbformat_minor": 0,
  "metadata": {
    "colab": {
      "name": "fortune_cookie.ipynb",
      "version": "0.3.2",
      "provenance": [],
      "collapsed_sections": []
    },
    "kernelspec": {
      "name": "python3",
      "display_name": "Python 3"
    }
  },
  "cells": [
    {
      "cell_type": "code",
      "metadata": {
        "id": "BejHjC3CiFuz",
        "colab_type": "code",
        "outputId": "cc4d534b-54af-4e92-abde-74af727d071f",
        "colab": {
          "base_uri": "https://localhost:8080/",
          "height": 71
        }
      },
      "source": [
        "from io import StringIO\n",
        "\n",
        "import pandas as pd\n",
        "import requests\n",
        "url='https://raw.githubusercontent.com/WomenInDataScience-Seattle/Machine_Learning_Projects/master/FortuneCookie/training_data/data.csv'\n",
        "s=requests.get(url).text\n",
        "\n",
        "c=pd.read_csv(StringIO(s))"
      ],
      "execution_count": 0,
      "outputs": [
        {
          "output_type": "stream",
          "text": [
            "/usr/local/lib/python3.6/dist-packages/IPython/core/interactiveshell.py:2718: DtypeWarning: Columns (0,1) have mixed types. Specify dtype option on import or set low_memory=False.\n",
            "  interactivity=interactivity, compiler=compiler, result=result)\n"
          ],
          "name": "stderr"
        }
      ]
    },
    {
      "cell_type": "code",
      "metadata": {
        "id": "16Odw0QilbEq",
        "colab_type": "code",
        "colab": {}
      },
      "source": [
        "%matplotlib inline\n",
        "import matplotlib.pyplot as plt\n",
        "import tensorflow as tf\n",
        "from scipy.spatial.distance import cdist"
      ],
      "execution_count": 0,
      "outputs": []
    },
    {
      "cell_type": "code",
      "metadata": {
        "id": "c6AkF2BolVTX",
        "colab_type": "code",
        "colab": {}
      },
      "source": [
        "\n",
        "# from tf.keras.models import Sequential  # This does not work!\n",
        "from tensorflow.python.keras.models import Sequential\n",
        "from tensorflow.python.keras.layers import Dense, GRU, Embedding\n",
        "from tensorflow.python.keras.optimizers import Adam\n",
        "from tensorflow.python.keras.preprocessing.text import Tokenizer\n",
        "from tensorflow.python.keras.preprocessing.sequence import pad_sequences"
      ],
      "execution_count": 0,
      "outputs": []
    },
    {
      "cell_type": "code",
      "metadata": {
        "id": "13ARdISSlrxx",
        "colab_type": "code",
        "outputId": "ef572c03-5062-41f0-cb22-5d192e087ddb",
        "colab": {
          "base_uri": "https://localhost:8080/",
          "height": 204
        }
      },
      "source": [
        "c.head(5)"
      ],
      "execution_count": 0,
      "outputs": [
        {
          "output_type": "execute_result",
          "data": {
            "text/html": [
              "<div>\n",
              "<style scoped>\n",
              "    .dataframe tbody tr th:only-of-type {\n",
              "        vertical-align: middle;\n",
              "    }\n",
              "\n",
              "    .dataframe tbody tr th {\n",
              "        vertical-align: top;\n",
              "    }\n",
              "\n",
              "    .dataframe thead th {\n",
              "        text-align: right;\n",
              "    }\n",
              "</style>\n",
              "<table border=\"1\" class=\"dataframe\">\n",
              "  <thead>\n",
              "    <tr style=\"text-align: right;\">\n",
              "      <th></th>\n",
              "      <th>Fortune Cookie Quotes</th>\n",
              "      <th>Unnamed: 1</th>\n",
              "    </tr>\n",
              "  </thead>\n",
              "  <tbody>\n",
              "    <tr>\n",
              "      <th>0</th>\n",
              "      <td>Be a generous friend and a fair enemy</td>\n",
              "      <td>NaN</td>\n",
              "    </tr>\n",
              "    <tr>\n",
              "      <th>1</th>\n",
              "      <td>Never quit!</td>\n",
              "      <td>NaN</td>\n",
              "    </tr>\n",
              "    <tr>\n",
              "      <th>2</th>\n",
              "      <td>Old friends, old wines and old gold are best</td>\n",
              "      <td>NaN</td>\n",
              "    </tr>\n",
              "    <tr>\n",
              "      <th>3</th>\n",
              "      <td>If your desires are not extravagant, they will...</td>\n",
              "      <td>NaN</td>\n",
              "    </tr>\n",
              "    <tr>\n",
              "      <th>4</th>\n",
              "      <td>Every Friend Joys in your Success</td>\n",
              "      <td>NaN</td>\n",
              "    </tr>\n",
              "  </tbody>\n",
              "</table>\n",
              "</div>"
            ],
            "text/plain": [
              "                               Fortune Cookie Quotes Unnamed: 1\n",
              "0              Be a generous friend and a fair enemy        NaN\n",
              "1                                       Never quit!         NaN\n",
              "2      Old friends, old wines and old gold are best         NaN\n",
              "3  If your desires are not extravagant, they will...        NaN\n",
              "4                 Every Friend Joys in your Success         NaN"
            ]
          },
          "metadata": {
            "tags": []
          },
          "execution_count": 33
        }
      ]
    },
    {
      "cell_type": "code",
      "metadata": {
        "id": "dHx91AFinuwd",
        "colab_type": "code",
        "colab": {}
      },
      "source": [
        "fortune_data = c['Fortune Cookie Quotes']"
      ],
      "execution_count": 0,
      "outputs": []
    },
    {
      "cell_type": "code",
      "metadata": {
        "id": "dDSs-9YJn6Ev",
        "colab_type": "code",
        "outputId": "5c4f5fad-9419-4ea2-d449-a069e5336011",
        "colab": {
          "base_uri": "https://localhost:8080/",
          "height": 119
        }
      },
      "source": [
        "fortune_data.head(5)"
      ],
      "execution_count": 0,
      "outputs": [
        {
          "output_type": "execute_result",
          "data": {
            "text/plain": [
              "0                Be a generous friend and a fair enemy\n",
              "1                                         Never quit! \n",
              "2        Old friends, old wines and old gold are best \n",
              "3    If your desires are not extravagant, they will...\n",
              "4                   Every Friend Joys in your Success \n",
              "Name: Fortune Cookie Quotes, dtype: object"
            ]
          },
          "metadata": {
            "tags": []
          },
          "execution_count": 35
        }
      ]
    },
    {
      "cell_type": "code",
      "metadata": {
        "id": "1BMBwoWyn8nR",
        "colab_type": "code",
        "outputId": "b8be4477-935e-4fed-e388-cc161b4d23ef",
        "colab": {
          "base_uri": "https://localhost:8080/",
          "height": 34
        }
      },
      "source": [
        "fortune_data[1]"
      ],
      "execution_count": 0,
      "outputs": [
        {
          "output_type": "execute_result",
          "data": {
            "text/plain": [
              "'Never quit! '"
            ]
          },
          "metadata": {
            "tags": []
          },
          "execution_count": 36
        }
      ]
    },
    {
      "cell_type": "code",
      "metadata": {
        "id": "n99z-X7eoYFc",
        "colab_type": "code",
        "outputId": "676dcc06-0d74-46c3-ce99-06337d15220a",
        "colab": {
          "base_uri": "https://localhost:8080/",
          "height": 34
        }
      },
      "source": [
        "fortune_data[36]"
      ],
      "execution_count": 0,
      "outputs": [
        {
          "output_type": "execute_result",
          "data": {
            "text/plain": [
              "'Let your heart make your decisions - it does not get as confused as your head. '"
            ]
          },
          "metadata": {
            "tags": []
          },
          "execution_count": 37
        }
      ]
    },
    {
      "cell_type": "code",
      "metadata": {
        "id": "pBktFaJWocwt",
        "colab_type": "code",
        "colab": {}
      },
      "source": [
        "cleaned_df = fortune_data.str.lower()\n",
        "cleaned_df2 = cleaned_df.str.strip()"
      ],
      "execution_count": 0,
      "outputs": []
    },
    {
      "cell_type": "code",
      "metadata": {
        "id": "_nfUEjbSqyFE",
        "colab_type": "code",
        "colab": {}
      },
      "source": [
        "dropped = cleaned_df2.dropna()"
      ],
      "execution_count": 0,
      "outputs": []
    },
    {
      "cell_type": "code",
      "metadata": {
        "id": "FFOOUj5vph87",
        "colab_type": "code",
        "outputId": "25a83dd8-685f-4a9d-bcc9-17f155f378bb",
        "colab": {
          "base_uri": "https://localhost:8080/",
          "height": 119
        }
      },
      "source": [
        "dropped.tail(5)"
      ],
      "execution_count": 0,
      "outputs": [
        {
          "output_type": "execute_result",
          "data": {
            "text/plain": [
              "834    your present question marks are going to succeed.\n",
              "835                your shoes will make you happy today.\n",
              "836    your smile brings happiness to everyone you meet.\n",
              "837    your way of doing what other people do their w...\n",
              "838                            your wish will come true.\n",
              "Name: Fortune Cookie Quotes, dtype: object"
            ]
          },
          "metadata": {
            "tags": []
          },
          "execution_count": 42
        }
      ]
    },
    {
      "cell_type": "code",
      "metadata": {
        "id": "dn2DmsrorPy6",
        "colab_type": "code",
        "colab": {}
      },
      "source": [
        "cleaned_fortunes = dropped"
      ],
      "execution_count": 0,
      "outputs": []
    },
    {
      "cell_type": "code",
      "metadata": {
        "id": "zdRKaWLTrswk",
        "colab_type": "code",
        "outputId": "d5fe1aff-366a-4881-812e-8bfd2d4c8592",
        "colab": {
          "base_uri": "https://localhost:8080/",
          "height": 119
        }
      },
      "source": [
        "cleaned_fortunes.head(5)"
      ],
      "execution_count": 0,
      "outputs": [
        {
          "output_type": "execute_result",
          "data": {
            "text/plain": [
              "0                be a generous friend and a fair enemy\n",
              "1                                          never quit!\n",
              "2         old friends, old wines and old gold are best\n",
              "3    if your desires are not extravagant, they will...\n",
              "4                    every friend joys in your success\n",
              "Name: Fortune Cookie Quotes, dtype: object"
            ]
          },
          "metadata": {
            "tags": []
          },
          "execution_count": 45
        }
      ]
    },
    {
      "cell_type": "code",
      "metadata": {
        "id": "E-ANP8gPrxUg",
        "colab_type": "code",
        "colab": {}
      },
      "source": [
        ""
      ],
      "execution_count": 0,
      "outputs": []
    },
    {
      "cell_type": "markdown",
      "metadata": {
        "id": "rcsjQpOpsDpz",
        "colab_type": "text"
      },
      "source": [
        "TODO:\n",
        "\n",
        "*  Tokenize the data - so that each word has a numeric integer association\n",
        "*  Pad the data so it's all the same length\n",
        "\n",
        "https://www.kaggle.com/shivamb/beginners-guide-to-text-generation-using-lstms"
      ]
    }
  ]
}